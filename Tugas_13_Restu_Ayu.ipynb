{
  "nbformat": 4,
  "nbformat_minor": 0,
  "metadata": {
    "colab": {
      "name": "Tugas 13_Restu Ayu.ipynb",
      "provenance": [],
      "authorship_tag": "ABX9TyO97ZWV+7Gu1KovhucZmHLA",
      "include_colab_link": true
    },
    "kernelspec": {
      "name": "python3",
      "display_name": "Python 3"
    }
  },
  "cells": [
    {
      "cell_type": "markdown",
      "metadata": {
        "id": "view-in-github",
        "colab_type": "text"
      },
      "source": [
        "<a href=\"https://colab.research.google.com/github/Restuayusw/Pemrograman_Python/blob/main/Tugas_13_Restu_Ayu.ipynb\" target=\"_parent\"><img src=\"https://colab.research.google.com/assets/colab-badge.svg\" alt=\"Open In Colab\"/></a>"
      ]
    },
    {
      "cell_type": "markdown",
      "metadata": {
        "id": "-RzOi-4rKIFB"
      },
      "source": [
        " **NAMA : RESTU AYU SENTOSANING WAHYU**\r\n",
        " ---\r\n",
        "**NIM : 1101174067**\r\n",
        "---\r\n",
        "**KELAS : TT-43-G10**\r\n",
        "---\r\n",
        "\r\n"
      ]
    },
    {
      "cell_type": "code",
      "metadata": {
        "id": "0sfLlyBNRp1J",
        "colab": {
          "base_uri": "https://localhost:8080/"
        },
        "outputId": "3b0fd972-7195-4d85-ed7a-b275e91f9a62"
      },
      "source": [
        "from google.colab import drive\n",
        "drive.mount('/content/drive')"
      ],
      "execution_count": 43,
      "outputs": [
        {
          "output_type": "stream",
          "text": [
            "Mounted at /content/drive\n"
          ],
          "name": "stdout"
        }
      ]
    },
    {
      "cell_type": "code",
      "metadata": {
        "id": "_a_N7F-JBnG8"
      },
      "source": [
        "import numpy as np\n",
        "import matplotlib.pyplot as plt\n"
      ],
      "execution_count": 44,
      "outputs": []
    },
    {
      "cell_type": "code",
      "metadata": {
        "colab": {
          "base_uri": "https://localhost:8080/"
        },
        "id": "Bt35WWBYHmaF",
        "outputId": "5450760e-fcb2-4649-84a7-c04e2258be25"
      },
      "source": [
        "np.zeros(4)"
      ],
      "execution_count": 45,
      "outputs": [
        {
          "output_type": "execute_result",
          "data": {
            "text/plain": [
              "array([0., 0., 0., 0.])"
            ]
          },
          "metadata": {
            "tags": []
          },
          "execution_count": 45
        }
      ]
    },
    {
      "cell_type": "code",
      "metadata": {
        "colab": {
          "base_uri": "https://localhost:8080/"
        },
        "id": "Ptft1x8jHorC",
        "outputId": "620a5b24-f75e-49c7-80bc-b25a880e9615"
      },
      "source": [
        "np.ones(3)"
      ],
      "execution_count": 46,
      "outputs": [
        {
          "output_type": "execute_result",
          "data": {
            "text/plain": [
              "array([1., 1., 1.])"
            ]
          },
          "metadata": {
            "tags": []
          },
          "execution_count": 46
        }
      ]
    },
    {
      "cell_type": "code",
      "metadata": {
        "colab": {
          "base_uri": "https://localhost:8080/"
        },
        "id": "6rL5qoLsHxmw",
        "outputId": "4368d1cd-2dfc-484d-e5fb-54e6e9ae8946"
      },
      "source": [
        "np.zeros((3,4))"
      ],
      "execution_count": 47,
      "outputs": [
        {
          "output_type": "execute_result",
          "data": {
            "text/plain": [
              "array([[0., 0., 0., 0.],\n",
              "       [0., 0., 0., 0.],\n",
              "       [0., 0., 0., 0.]])"
            ]
          },
          "metadata": {
            "tags": []
          },
          "execution_count": 47
        }
      ]
    },
    {
      "cell_type": "code",
      "metadata": {
        "colab": {
          "base_uri": "https://localhost:8080/"
        },
        "id": "iwOrfsJWH1Kj",
        "outputId": "3c4afb5a-e595-4d9a-d745-a24012722f3b"
      },
      "source": [
        "np.ones((5,2))"
      ],
      "execution_count": 48,
      "outputs": [
        {
          "output_type": "execute_result",
          "data": {
            "text/plain": [
              "array([[1., 1.],\n",
              "       [1., 1.],\n",
              "       [1., 1.],\n",
              "       [1., 1.],\n",
              "       [1., 1.]])"
            ]
          },
          "metadata": {
            "tags": []
          },
          "execution_count": 48
        }
      ]
    },
    {
      "cell_type": "code",
      "metadata": {
        "colab": {
          "base_uri": "https://localhost:8080/"
        },
        "id": "RgoZwFVpH4LJ",
        "outputId": "87f50c58-e725-47de-c508-1b9220e498ba"
      },
      "source": [
        "np.arange(10)"
      ],
      "execution_count": 49,
      "outputs": [
        {
          "output_type": "execute_result",
          "data": {
            "text/plain": [
              "array([0, 1, 2, 3, 4, 5, 6, 7, 8, 9])"
            ]
          },
          "metadata": {
            "tags": []
          },
          "execution_count": 49
        }
      ]
    },
    {
      "cell_type": "code",
      "metadata": {
        "colab": {
          "base_uri": "https://localhost:8080/"
        },
        "id": "LbDM1yUVH7sn",
        "outputId": "4ab949f2-91c9-4bf6-d9b9-b5a8b18c99b7"
      },
      "source": [
        "np.arange(2,10)"
      ],
      "execution_count": 50,
      "outputs": [
        {
          "output_type": "execute_result",
          "data": {
            "text/plain": [
              "array([2, 3, 4, 5, 6, 7, 8, 9])"
            ]
          },
          "metadata": {
            "tags": []
          },
          "execution_count": 50
        }
      ]
    },
    {
      "cell_type": "code",
      "metadata": {
        "colab": {
          "base_uri": "https://localhost:8080/"
        },
        "id": "3pfKhilJH-27",
        "outputId": "b16f70ce-0353-40c7-f282-d8758e23effc"
      },
      "source": [
        "np.arange(3,47,4)"
      ],
      "execution_count": 51,
      "outputs": [
        {
          "output_type": "execute_result",
          "data": {
            "text/plain": [
              "array([ 3,  7, 11, 15, 19, 23, 27, 31, 35, 39, 43])"
            ]
          },
          "metadata": {
            "tags": []
          },
          "execution_count": 51
        }
      ]
    },
    {
      "cell_type": "code",
      "metadata": {
        "colab": {
          "base_uri": "https://localhost:8080/"
        },
        "id": "JCjwHWQKICbo",
        "outputId": "0e91a4f0-f7bb-4d9a-d24b-bad9e74c4258"
      },
      "source": [
        "np.arange(4,5,0.1)"
      ],
      "execution_count": 52,
      "outputs": [
        {
          "output_type": "execute_result",
          "data": {
            "text/plain": [
              "array([4. , 4.1, 4.2, 4.3, 4.4, 4.5, 4.6, 4.7, 4.8, 4.9])"
            ]
          },
          "metadata": {
            "tags": []
          },
          "execution_count": 52
        }
      ]
    },
    {
      "cell_type": "code",
      "metadata": {
        "colab": {
          "base_uri": "https://localhost:8080/"
        },
        "id": "f_iYmJuAIGWA",
        "outputId": "ebc0fe88-1246-40fc-cb95-1207f5958501"
      },
      "source": [
        "np.arange(2,-4,-0.5)"
      ],
      "execution_count": 53,
      "outputs": [
        {
          "output_type": "execute_result",
          "data": {
            "text/plain": [
              "array([ 2. ,  1.5,  1. ,  0.5,  0. , -0.5, -1. , -1.5, -2. , -2.5, -3. ,\n",
              "       -3.5])"
            ]
          },
          "metadata": {
            "tags": []
          },
          "execution_count": 53
        }
      ]
    },
    {
      "cell_type": "code",
      "metadata": {
        "colab": {
          "base_uri": "https://localhost:8080/"
        },
        "id": "nYs05WMnIJui",
        "outputId": "a8c60ed2-b2a9-43b7-e0a1-a080ca0a9775"
      },
      "source": [
        "np.linspace(2,10,4)"
      ],
      "execution_count": 54,
      "outputs": [
        {
          "output_type": "execute_result",
          "data": {
            "text/plain": [
              "array([ 2.        ,  4.66666667,  7.33333333, 10.        ])"
            ]
          },
          "metadata": {
            "tags": []
          },
          "execution_count": 54
        }
      ]
    },
    {
      "cell_type": "code",
      "metadata": {
        "colab": {
          "base_uri": "https://localhost:8080/"
        },
        "id": "JEnrnCy6IM3S",
        "outputId": "e728b056-fc24-4a94-9ebd-dcfaae6e39a6"
      },
      "source": [
        "np.linspace(2,-4,4)"
      ],
      "execution_count": 55,
      "outputs": [
        {
          "output_type": "execute_result",
          "data": {
            "text/plain": [
              "array([ 2.,  0., -2., -4.])"
            ]
          },
          "metadata": {
            "tags": []
          },
          "execution_count": 55
        }
      ]
    },
    {
      "cell_type": "code",
      "metadata": {
        "id": "v9oYS4XzIPoX"
      },
      "source": [
        "e=np.arange(0,20,2)"
      ],
      "execution_count": 56,
      "outputs": []
    },
    {
      "cell_type": "code",
      "metadata": {
        "colab": {
          "base_uri": "https://localhost:8080/"
        },
        "id": "vu9EULcFIUGt",
        "outputId": "8967e4eb-2ab5-4da8-e08b-e32fa315e05f"
      },
      "source": [
        "len(e)"
      ],
      "execution_count": 57,
      "outputs": [
        {
          "output_type": "execute_result",
          "data": {
            "text/plain": [
              "10"
            ]
          },
          "metadata": {
            "tags": []
          },
          "execution_count": 57
        }
      ]
    },
    {
      "cell_type": "code",
      "metadata": {
        "colab": {
          "base_uri": "https://localhost:8080/"
        },
        "id": "8L-_atSaIYUj",
        "outputId": "d852e3be-8ba2-4568-adc0-f5f809c17deb"
      },
      "source": [
        "e.reshape(5,2)"
      ],
      "execution_count": 58,
      "outputs": [
        {
          "output_type": "execute_result",
          "data": {
            "text/plain": [
              "array([[ 0,  2],\n",
              "       [ 4,  6],\n",
              "       [ 8, 10],\n",
              "       [12, 14],\n",
              "       [16, 18]])"
            ]
          },
          "metadata": {
            "tags": []
          },
          "execution_count": 58
        }
      ]
    },
    {
      "cell_type": "code",
      "metadata": {
        "colab": {
          "base_uri": "https://localhost:8080/"
        },
        "id": "pNCPrwkCIa3G",
        "outputId": "5a435213-a583-4bee-e059-033b5a2623f5"
      },
      "source": [
        "e.reshape(2,5)"
      ],
      "execution_count": 59,
      "outputs": [
        {
          "output_type": "execute_result",
          "data": {
            "text/plain": [
              "array([[ 0,  2,  4,  6,  8],\n",
              "       [10, 12, 14, 16, 18]])"
            ]
          },
          "metadata": {
            "tags": []
          },
          "execution_count": 59
        }
      ]
    },
    {
      "cell_type": "code",
      "metadata": {
        "colab": {
          "base_uri": "https://localhost:8080/"
        },
        "id": "jdktxxp_IebZ",
        "outputId": "7117b5b9-6d29-49ad-91de-9833e4287645"
      },
      "source": [
        "print(e)"
      ],
      "execution_count": 60,
      "outputs": [
        {
          "output_type": "stream",
          "text": [
            "[ 0  2  4  6  8 10 12 14 16 18]\n"
          ],
          "name": "stdout"
        }
      ]
    },
    {
      "cell_type": "code",
      "metadata": {
        "id": "p_u9qwSyIg_o"
      },
      "source": [
        "f=e.reshape(2,5)"
      ],
      "execution_count": 61,
      "outputs": []
    },
    {
      "cell_type": "code",
      "metadata": {
        "colab": {
          "base_uri": "https://localhost:8080/"
        },
        "id": "bYbbB9cuJEoJ",
        "outputId": "6b606470-e67d-46be-cf2d-1ae68a0fb3f0"
      },
      "source": [
        "print(f)"
      ],
      "execution_count": 62,
      "outputs": [
        {
          "output_type": "stream",
          "text": [
            "[[ 0  2  4  6  8]\n",
            " [10 12 14 16 18]]\n"
          ],
          "name": "stdout"
        }
      ]
    },
    {
      "cell_type": "code",
      "metadata": {
        "colab": {
          "base_uri": "https://localhost:8080/"
        },
        "id": "GRlsiP8wJI0p",
        "outputId": "b0388854-19d1-44d8-d3f0-64172c6f3610"
      },
      "source": [
        "np.random.random((3,4))"
      ],
      "execution_count": 63,
      "outputs": [
        {
          "output_type": "execute_result",
          "data": {
            "text/plain": [
              "array([[0.92140965, 0.80170772, 0.49608054, 0.35392423],\n",
              "       [0.91510997, 0.65762889, 0.75417208, 0.67164357],\n",
              "       [0.37888517, 0.45117138, 0.3179078 , 0.01463468]])"
            ]
          },
          "metadata": {
            "tags": []
          },
          "execution_count": 63
        }
      ]
    },
    {
      "cell_type": "code",
      "metadata": {
        "colab": {
          "base_uri": "https://localhost:8080/"
        },
        "id": "1nDd_ZT8JLsz",
        "outputId": "ea727a7e-aae8-4393-f744-8e8107652beb"
      },
      "source": [
        "np.random.randint(1,20,10)"
      ],
      "execution_count": 64,
      "outputs": [
        {
          "output_type": "execute_result",
          "data": {
            "text/plain": [
              "array([ 6, 17,  7, 18, 18,  5,  4, 12,  9, 10])"
            ]
          },
          "metadata": {
            "tags": []
          },
          "execution_count": 64
        }
      ]
    },
    {
      "cell_type": "code",
      "metadata": {
        "colab": {
          "base_uri": "https://localhost:8080/"
        },
        "id": "fk7QgETcJNZn",
        "outputId": "bb3248f1-7a86-4d59-c5cc-4c3753b20111"
      },
      "source": [
        "np.random.randn(3)"
      ],
      "execution_count": 65,
      "outputs": [
        {
          "output_type": "execute_result",
          "data": {
            "text/plain": [
              "array([ 1.03182607, -0.2556036 ,  0.5088528 ])"
            ]
          },
          "metadata": {
            "tags": []
          },
          "execution_count": 65
        }
      ]
    },
    {
      "cell_type": "markdown",
      "metadata": {
        "id": "-NSP6pFsPOeY"
      },
      "source": [
        "Gambar Kurva"
      ]
    },
    {
      "cell_type": "code",
      "metadata": {
        "id": "u4jPVkCjJQJX"
      },
      "source": [
        "x=np.linspace(1,20,10)\r\n",
        "y=x**2\r\n",
        "y2=x**3"
      ],
      "execution_count": 66,
      "outputs": []
    },
    {
      "cell_type": "code",
      "metadata": {
        "colab": {
          "base_uri": "https://localhost:8080/"
        },
        "id": "ULiGgl7hJUMp",
        "outputId": "4ad2493e-8e90-4c6c-b2fc-fc7381f80326"
      },
      "source": [
        "print(x)"
      ],
      "execution_count": 67,
      "outputs": [
        {
          "output_type": "stream",
          "text": [
            "[ 1.          3.11111111  5.22222222  7.33333333  9.44444444 11.55555556\n",
            " 13.66666667 15.77777778 17.88888889 20.        ]\n"
          ],
          "name": "stdout"
        }
      ]
    },
    {
      "cell_type": "code",
      "metadata": {
        "colab": {
          "base_uri": "https://localhost:8080/",
          "height": 295
        },
        "id": "SkeHqOMXNxAv",
        "outputId": "d621194b-fd1c-4d83-f70d-0ce6373759f6"
      },
      "source": [
        "plt.figure()\n",
        "plt.plot(x,y, label='Y1')\n",
        "plt.plot(x,y2, label='Y2')\n",
        "plt.legend()\n",
        "plt.title('Contoh kurva Python')\n",
        "plt.xlabel('X')\n",
        "plt.ylabel('Y')\n",
        "plt.show()"
      ],
      "execution_count": 68,
      "outputs": [
        {
          "output_type": "display_data",
          "data": {
            "image/png": "[encoded data removed]",
            "text/plain": [
              "<Figure size 432x288 with 1 Axes>"
            ]
          },
          "metadata": {
            "tags": [],
            "needs_background": "light"
          }
        }
      ]
    },
    {
      "cell_type": "markdown",
      "metadata": {
        "id": "T0Ns35LdR1X-"
      },
      "source": [
        " **TUGAS PYTHON 13**"
      ]
    },
    {
      "cell_type": "code",
      "metadata": {
        "id": "hcsG4CR4RqHL"
      },
      "source": [
        "def cos(frek,tipe,ht,hr,d):\r\n",
        "    if frek in range(150,1501):\r\n",
        "        Ca=69.55\r\n",
        "        Cb=26.16\r\n",
        "    elif frek in range(1501,2001):\r\n",
        "        Ca=46.3\r\n",
        "        Cb=33.9\r\n",
        "    \r\n",
        "    if tipe=='urban' :\r\n",
        "        Cm=0\r\n",
        "    elif tipe=='suburban' :\r\n",
        "        Cm= -2*((np.log10((frek/28)**2))-5.4)\r\n",
        "    elif tipe=='open' :\r\n",
        "        Cm= -4.78*(np.log10(frek))+18.33*(np.log10(frek))-40.94\r\n",
        "    else :\r\n",
        "        Cm='tipe salah'\r\n",
        "    \r\n",
        "    ahr = (1.1*np.log10(frek)-0.7)*hr-(1.56*np.log10(frek)-1.8)\r\n",
        "    Lp = Ca+(Cb*np.log10(frek))-(13.83*np.log(ht))-ahr+((44.9-6.55*np.log10(ht))*np.log10(d))-Cm\r\n",
        "    \r\n",
        "    return Lp"
      ],
      "execution_count": 69,
      "outputs": []
    },
    {
      "cell_type": "code",
      "metadata": {
        "id": "Hd-UCRq6R9R2"
      },
      "source": [
        "f=1800 #MHz\r\n",
        "loc='urban'\r\n",
        "tower=80 #m\r\n",
        "user=1.5 #m\r\n",
        "dmin=200 #m\r\n",
        "dmax=700 #m\r\n",
        "N=200 #titik\r\n",
        "d=np.random.randint(dmin,dmax,N)"
      ],
      "execution_count": 70,
      "outputs": []
    },
    {
      "cell_type": "code",
      "metadata": {
        "colab": {
          "base_uri": "https://localhost:8080/"
        },
        "id": "GnwoQw69SD6t",
        "outputId": "793877d4-5e67-43f4-c430-d838336d41f6"
      },
      "source": [
        "print(d)"
      ],
      "execution_count": 71,
      "outputs": [
        {
          "output_type": "stream",
          "text": [
            "[219 415 408 252 614 276 348 293 672 263 211 394 222 663 619 493 594 581\n",
            " 454 606 410 406 249 617 678 600 328 345 683 383 487 322 437 611 235 242\n",
            " 694 608 329 245 675 496 322 218 200 626 555 327 387 208 507 215 638 674\n",
            " 484 601 347 651 665 282 502 393 698 369 447 546 380 660 245 349 215 564\n",
            " 388 210 237 302 236 589 511 254 562 452 586 365 503 494 438 467 446 293\n",
            " 663 340 480 252 244 308 552 385 476 491 275 400 290 234 402 624 361 361\n",
            " 526 621 399 690 201 525 428 390 305 451 346 231 503 460 557 293 283 516\n",
            " 542 311 340 334 418 476 208 626 333 225 462 442 610 570 654 488 529 694\n",
            " 482 342 608 274 361 332 649 602 247 374 592 645 248 270 335 314 691 250\n",
            " 565 567 558 651 437 455 439 226 238 669 417 288 663 685 237 276 432 598\n",
            " 249 410 438 626 421 635 642 426 504 398 228 316 444 696 632 451 266 525\n",
            " 317 398]\n"
          ],
          "name": "stdout"
        }
      ]
    },
    {
      "cell_type": "code",
      "metadata": {
        "id": "6Bu7ETjkSG7c"
      },
      "source": [
        "LpUrban=cos(f,loc,tower,user,d)"
      ],
      "execution_count": 72,
      "outputs": []
    },
    {
      "cell_type": "code",
      "metadata": {
        "colab": {
          "base_uri": "https://localhost:8080/"
        },
        "id": "MpJjkOg5SK06",
        "outputId": "1c746578-f210-45df-fffe-045d9dbf5bf8"
      },
      "source": [
        "print(LpUrban)"
      ],
      "execution_count": 73,
      "outputs": [
        {
          "output_type": "stream",
          "text": [
            "[170.91907957 179.92309826 179.6834724  172.89618665 185.44090863\n",
            " 174.17763673 177.44284933 175.0195957  186.7123805  173.49802037\n",
            " 170.39488001 179.19163359 171.11073201 186.52245082 185.55515287\n",
            " 182.34918016 184.9744343  184.66272611 181.18830549 185.25616844\n",
            " 179.75235389 179.61425242 172.72748718 185.5095663  186.83759232\n",
            " 185.11600572 176.60910082 177.3208898  186.94109196 178.79276882\n",
            " 182.17669346 176.34903982 180.65071828 185.37191467 171.91235348\n",
            " 172.32581571 187.1661492  185.30258113 176.65198134 172.49936498\n",
            " 186.77512553 182.43463788 176.34903982 170.85461155 169.64069205\n",
            " 185.713554   184.01782092 176.56608938 178.93912065 170.19316433\n",
            " 182.74362058 170.65941807 185.98102224 186.75424156 182.08965155\n",
            " 185.13946324 177.40231336 186.26516079 186.56487928 174.48057824\n",
            " 182.60401352 179.15583628 187.24710481 178.26822064 180.96942503\n",
            " 183.78752308 178.68199836 186.45856755 172.49936498 177.48326897\n",
            " 170.65941807 184.24441408 178.97547226 170.32796189 172.03172909\n",
            " 175.44576648 171.97216775 184.85536142 182.8543185  173.00754089\n",
            " 184.19437411 181.12611449 184.78343154 178.11469065 182.63204584\n",
            " 182.37772371 180.68291541 181.58598899 180.93787689 175.0195957\n",
            " 186.52245082 177.11524764 181.97275265 172.89618665 172.44175248\n",
            " 175.72288173 183.94147257 178.8661348  181.85487549 182.29191895\n",
            " 174.12650695 179.40452789 174.87462457 171.85228415 179.47478358\n",
            " 185.668478   177.95946883 177.95946883 183.26185621 185.60059238\n",
            " 179.3692682  187.08472564 169.71094774 183.2350508  180.35758368\n",
            " 179.04789523 175.58500555 181.09491573 177.36166041 171.67052372\n",
            " 182.63204584 181.37324781 184.0684909  175.0195957  174.53044108\n",
            " 182.99147866 183.68394734 175.85942145 177.11524764 176.86444747\n",
            " 180.02456019 181.85487549 170.19316433 185.713554   176.82220984\n",
            " 171.29981187 181.43435956 180.81097299 185.34884139 184.39347619\n",
            " 186.32992522 182.20558832 183.34196773 187.1661492  182.03132336\n",
            " 177.19786511 185.30258113 174.07519091 177.95946883 176.77984519\n",
            " 186.22181849 185.16288176 172.61388787 178.45780947 184.92692586\n",
            " 186.13473173 172.67080204 173.86803663 176.90655882 175.99465037\n",
            " 187.10512569 172.78394512 184.26936756 184.31914231 184.0937577\n",
            " 186.26516079 180.65071828 181.21929832 180.71503911 171.36227866\n",
            " 172.09103965 186.64935472 179.99082068 174.77714157 186.52245082\n",
            " 186.98227982 172.03172909 174.17763673 180.48861939 185.06897316\n",
            " 172.72748718 179.75235389 180.68291541 185.713554   180.12529653\n",
            " 185.91462979 186.06906151 180.29160587 182.66002249 179.33392003\n",
            " 171.48638728 176.0840871  180.87456785 187.20668516 185.84792294\n",
            " 181.09491573 173.65779037 183.2350508  176.12859342 179.33392003]\n"
          ],
          "name": "stdout"
        }
      ]
    },
    {
      "cell_type": "code",
      "metadata": {
        "id": "2B281rngT05y"
      },
      "source": [
        "f=1800 #MHz\r\n",
        "loc='open'\r\n",
        "tower=80 #m\r\n",
        "user=1.5 #m\r\n",
        "dmin=200 #m\r\n",
        "dmax=700 #m\r\n",
        "N=200 #titik\r\n",
        "d=np.random.randint(dmin,dmax,N)"
      ],
      "execution_count": 74,
      "outputs": []
    },
    {
      "cell_type": "code",
      "metadata": {
        "colab": {
          "base_uri": "https://localhost:8080/"
        },
        "id": "Tq2f16KIT9YK",
        "outputId": "84e3ebf1-ff2a-42fb-fcae-935beacccf9e"
      },
      "source": [
        "print(d)"
      ],
      "execution_count": 75,
      "outputs": [
        {
          "output_type": "stream",
          "text": [
            "[639 443 388 689 664 685 657 271 554 414 449 669 423 623 462 209 342 263\n",
            " 395 514 653 411 477 545 556 435 376 654 640 558 425 692 591 231 560 384\n",
            " 279 264 535 494 483 218 471 391 424 522 542 292 669 389 311 503 584 295\n",
            " 463 477 246 280 620 320 506 325 600 624 602 459 368 298 509 287 686 526\n",
            " 597 206 640 669 298 251 306 613 694 414 652 419 512 275 567 554 280 536\n",
            " 624 518 206 213 513 368 668 387 290 457 466 306 324 333 287 687 553 504\n",
            " 349 375 567 602 342 587 211 518 626 370 427 499 363 371 427 240 372 383\n",
            " 326 573 225 264 435 411 368 402 218 440 237 575 345 202 315 283 643 276\n",
            " 442 425 456 273 684 573 493 650 664 455 279 630 444 596 305 247 387 310\n",
            " 410 555 633 546 612 237 283 588 295 625 242 455 205 480 614 314 411 530\n",
            " 388 470 590 286 485 297 203 574 317 338 689 547 446 683 571 513 372 418\n",
            " 487 331]\n"
          ],
          "name": "stdout"
        }
      ]
    },
    {
      "cell_type": "code",
      "metadata": {
        "id": "wuPd8DHEUBSo"
      },
      "source": [
        "LpOpen=cos(f,loc,tower,user,d)"
      ],
      "execution_count": 76,
      "outputs": []
    },
    {
      "cell_type": "code",
      "metadata": {
        "colab": {
          "base_uri": "https://localhost:8080/"
        },
        "id": "w7yB0X7wUI4C",
        "outputId": "b3aaf2d0-3965-47d6-d9ff-4fb3bb903de9"
      },
      "source": [
        "print(LpOpen)"
      ],
      "execution_count": 77,
      "outputs": [
        {
          "output_type": "stream",
          "text": [
            "[182.83414125 177.67386387 175.80652981 183.89535355 183.37473858\n",
            " 183.81333738 183.22545079 170.75116906 180.82347498 176.72017211\n",
            " 177.86336768 183.48041228 177.02311363 182.47694335 178.26541712\n",
            " 167.09178191 174.02892266 170.32907792 176.05839773 179.76783232\n",
            " 183.1394277  176.6177263  178.71549494 180.59275801 180.87423625\n",
            " 177.41715995 175.36399381 183.16098277 182.85616821 180.92481525\n",
            " 177.08955827 183.95655381 181.73416898 168.50158128 180.97521329\n",
            " 175.66055713 171.16097942 170.3825362  180.33189431 179.20878127\n",
            " 178.89157521 167.6856691  178.53718576 175.91502512 177.05637512\n",
            " 179.98538471 180.51500489 171.80249513 183.48041228 175.84278784\n",
            " 172.69047901 179.4631034  181.56633097 171.94647837 178.29587386\n",
            " 178.71549494 169.38780037 171.21137746 182.4089485  173.09233237\n",
            " 179.5468672  173.31072803 181.94706327 182.49953555 181.99393931\n",
            " 178.17364977 175.06105229 172.08900476 179.63013584 171.55920346\n",
            " 183.83388623 180.09291376 181.87645542 166.88812191 182.85616821\n",
            " 183.48041228 172.08900476 169.67123523 172.46217195 182.24900573\n",
            " 183.99720676 176.72017211 183.11783959 176.88927663 179.71291514\n",
            " 170.95756451 181.15019986 180.82347498 171.21137746 180.35819915\n",
            " 182.49953555 179.8770285  166.88812191 167.35882758 179.74040049\n",
            " 175.06105229 183.45934086 175.77017821 171.70568212 178.11213772\n",
            " 178.38685095 172.46217195 173.26731894 173.6532674  171.55920346\n",
            " 183.85440515 180.79802558 179.49108004 174.31432653 175.3264805\n",
            " 181.15019986 181.99393931 174.02892266 181.63850656 167.22593757\n",
            " 179.8770285  182.54461155 175.13740065 177.15569096 179.35063783\n",
            " 174.8683511  175.17542021 177.15569096 169.03997436 175.21333742\n",
            " 175.62382637 173.35400375 181.29847742 168.13086942 170.3825362\n",
            " 177.41715995 176.6177263  175.06105229 176.30584114 167.6856691\n",
            " 177.57814728 168.86278665 181.34755843 174.15194735 166.61191233\n",
            " 172.87049728 171.36149864 182.92204318 171.00869428 177.64203055\n",
            " 177.08955827 178.08128067 170.8547448  183.7927585  181.29847742\n",
            " 179.18023772 183.07456387 183.37473858 178.05035588 171.16097942\n",
            " 182.63433311 177.70562541 181.8528406  172.41606311 169.44494543\n",
            " 175.77017821 172.64511267 176.58341145 180.84887848 182.70125123\n",
            " 180.61858064 182.22600778 168.86278665 171.36149864 181.66248314\n",
            " 171.94647837 182.52209158 169.15687327 178.05035588 166.81957561\n",
            " 178.8038102  182.27196619 172.82570793 176.6177263  180.19962819\n",
            " 175.80652981 178.50724688 181.71031421 171.51003679 178.94978288\n",
            " 172.04165601 166.68147414 181.3230393  172.95965098 173.86320031\n",
            " 183.89535355 180.64435601 177.76893445 183.77214952 181.24922479\n",
            " 179.74040049 175.21333742 176.85561775 179.00775102 173.56841029]\n"
          ],
          "name": "stdout"
        }
      ]
    },
    {
      "cell_type": "code",
      "metadata": {
        "id": "RrdrOu2gnmPR"
      },
      "source": [
        "f=1800 #MHz\r\n",
        "loc='suburban'\r\n",
        "tower=80 #m\r\n",
        "user=1.5 #m\r\n",
        "dmin=200 #m\r\n",
        "dmax=700 #m\r\n",
        "N=200 #titik\r\n",
        "d=np.random.randint(dmin,dmax,N)"
      ],
      "execution_count": 78,
      "outputs": []
    },
    {
      "cell_type": "code",
      "metadata": {
        "colab": {
          "base_uri": "https://localhost:8080/"
        },
        "id": "0MP0I07Gns3K",
        "outputId": "b9ba86dc-3d32-4364-c001-23d1d2b3e2e3"
      },
      "source": [
        "print(d)"
      ],
      "execution_count": 79,
      "outputs": [
        {
          "output_type": "stream",
          "text": [
            "[626 603 671 200 302 295 612 464 452 265 416 205 580 625 625 521 429 277\n",
            " 518 268 282 527 243 295 584 665 481 505 451 234 617 454 314 355 481 517\n",
            " 326 412 272 241 524 342 297 485 291 265 288 371 249 333 667 528 385 509\n",
            " 294 634 539 570 244 221 302 240 561 413 441 662 674 287 695 515 503 670\n",
            " 692 362 248 390 392 409 388 297 316 513 301 505 392 301 212 409 547 482\n",
            " 378 623 682 347 571 333 294 657 601 454 213 368 273 264 424 356 368 482\n",
            " 519 649 640 435 476 371 246 528 328 393 676 422 687 438 282 614 216 548\n",
            " 642 527 340 244 652 660 268 585 519 241 498 529 276 294 599 416 221 289\n",
            " 225 689 649 241 501 382 286 664 669 418 622 263 220 688 269 571 487 240\n",
            " 612 670 456 560 604 567 351 349 535 357 682 433 369 499 579 408 307 357\n",
            " 479 337 623 351 446 319 358 480 351 245 391 445 662 667 336 534 687 593\n",
            " 596 300]\n"
          ],
          "name": "stdout"
        }
      ]
    },
    {
      "cell_type": "code",
      "metadata": {
        "id": "xkf8xcSQnzBj"
      },
      "source": [
        "LpSuburban=cos(f,loc,tower,user,d)"
      ],
      "execution_count": 80,
      "outputs": []
    },
    {
      "cell_type": "code",
      "metadata": {
        "colab": {
          "base_uri": "https://localhost:8080/"
        },
        "id": "NbOtTY7jn2OZ",
        "outputId": "032fb48e-7866-41c2-a60a-42e0b51b33cc"
      },
      "source": [
        "print(LpSuburban)"
      ],
      "execution_count": 81,
      "outputs": [
        {
          "output_type": "stream",
          "text": [
            "[182.14601189 181.61871931 183.12386112 166.07314994 171.87822438\n",
            " 171.54787871 181.82740812 177.92766523 177.55857239 170.0371927\n",
            " 176.38945806 166.42097595 181.0709183  182.12349192 182.12349192\n",
            " 179.55977404 176.82291496 170.66103948 179.47842884 170.19576365\n",
            " 170.91303614 179.7210686  168.81636127 171.54787871 181.16773131\n",
            " 182.99733718 178.43452634 179.12040158 177.52737362 168.28474204\n",
            " 181.94202419 177.62076338 172.42710827 174.155839   178.43452634\n",
            " 179.45120905 172.95540409 176.25335809 170.40445247 168.69994542\n",
            " 179.64065218 173.630323   171.64305635 178.55118322 171.35557214\n",
            " 170.0371927  171.20959946 174.77682055 169.15994507 173.25466774\n",
            " 183.03963822 179.74777237 175.2985927  179.23153618 171.50004764\n",
            " 182.32488715 180.03822055 180.82593408 168.87421038 167.47959505\n",
            " 171.87822438 168.6413747  180.6017452  176.28750656 177.21152547\n",
            " 182.93364647 183.18669946 171.1606038  183.61888966 179.39661116\n",
            " 179.06450373 183.10285256 183.55795415 174.43089283 169.10325994\n",
            " 175.48035312 175.55240565 176.15041315 175.40793015 171.64305635\n",
            " 172.516545   179.34180083 171.83150381 179.12040158 175.55240565\n",
            " 171.83150381 166.89393963 176.15041315 180.24575635 178.46378126\n",
            " 175.04012237 182.07834369 183.35291068 173.83477126 180.85062513\n",
            " 173.25466774 171.50004764 182.82685113 181.57192113 177.62076338\n",
            " 166.96022792 174.66245263 170.45614514 169.98393654 176.65777546\n",
            " 174.19546276 174.66245263 178.46378126 179.50559614 182.65427638\n",
            " 182.45756855 177.01856029 178.28733339 174.77682055 168.98920071\n",
            " 179.74777237 173.04155872 175.58829417 183.22843649 176.59117374\n",
            " 183.45580549 177.1153733  170.91303614 181.87336652 167.15724145\n",
            " 180.27148464 182.50151941 179.7210686  173.54770554 168.87421038\n",
            " 182.71923993 182.89102544 170.19576365 181.19183095 179.50559614\n",
            " 168.69994542 178.92378091 179.77442562 170.61009462 171.50004764\n",
            " 181.52496696 176.38945806 167.47959505 171.25842529 167.73226976\n",
            " 183.49675389 182.65427638 168.69994542 179.00838319 175.18839993\n",
            " 171.11143713 182.97613892 183.08181262 176.45701809 182.05571519\n",
            " 169.93047826 167.41571178 183.47629457 170.24822642 180.85062513\n",
            " 178.60915136 168.6413747  181.82740812 183.10285256 177.68268101\n",
            " 180.57661363 181.64206022 180.7516002  173.99621987 173.91572687\n",
            " 179.93329465 174.23497538 183.35291068 176.95364664 174.70067854\n",
            " 178.95203817 181.04661072 176.11593029 172.10953069 174.23497538\n",
            " 178.3758336  173.42286362 182.07834369 173.99621987 177.37033479\n",
            " 172.6496443  174.27437747 178.40521054 173.99621987 168.93182288\n",
            " 175.51642546 177.33871583 182.93364647 183.03963822 173.38100255\n",
            " 179.90694059 183.45580549 181.383158   181.45424093 171.78462777]\n"
          ],
          "name": "stdout"
        }
      ]
    },
    {
      "cell_type": "code",
      "metadata": {
        "colab": {
          "base_uri": "https://localhost:8080/",
          "height": 295
        },
        "id": "Av7RcdXLSNi7",
        "outputId": "50a03db3-6105-40fd-c14c-ded9de9a5410"
      },
      "source": [
        "plt.figure()\r\n",
        "plt.plot(d , label='Urban')\r\n",
        "plt.plot(d , label='Open')\r\n",
        "plt.plot(d , label='Suburban')\r\n",
        "plt.legend()\r\n",
        "plt.title('Frekuensi 1800 MHz')\r\n",
        "plt.xlabel('Jarak (m)')\r\n",
        "plt.ylabel('Path Loss (dB)')\r\n",
        "plt.show()"
      ],
      "execution_count": 85,
      "outputs": [
        {
          "output_type": "display_data",
          "data": {
            "image/png": "[encoded data removed]",
            "text/plain": [
              "<Figure size 432x288 with 1 Axes>"
            ]
          },
          "metadata": {
            "tags": [],
            "needs_background": "light"
          }
        }
      ]
    },
    {
      "cell_type": "code",
      "metadata": {
        "id": "de04-ux-SS_3"
      },
      "source": [
        "d_sort=d[np.argsort(d)]\r\n",
        "Urban_sort=LpUrban[np.argsort(d)]\r\n",
        "Open_sort=LpOpen[np.argsort(d)]\r\n",
        "Suburban_sort=LpSuburban[np.argsort(d)]"
      ],
      "execution_count": 86,
      "outputs": []
    },
    {
      "cell_type": "code",
      "metadata": {
        "colab": {
          "base_uri": "https://localhost:8080/",
          "height": 295
        },
        "id": "Cca4X2IjSV9k",
        "outputId": "139b42a8-b97e-42f1-f7e8-a2cfd1078f7f"
      },
      "source": [
        "plt.figure()\r\n",
        "plt.plot(d_sort , label='700 MHz')\r\n",
        "plt.plot(d_sort , label='900 MHz')\r\n",
        "plt.plot(d_sort , label='1800 MHz')\r\n",
        "plt.legend()\r\n",
        "plt.title('Frekuensi 1800 MHz')\r\n",
        "plt.xlabel('Jarak (m)')\r\n",
        "plt.ylabel('Path Loss (dB)')\r\n",
        "plt.show()"
      ],
      "execution_count": 88,
      "outputs": [
        {
          "output_type": "display_data",
          "data": {
            "image/png": "[encoded data removed]",
            "text/plain": [
              "<Figure size 432x288 with 1 Axes>"
            ]
          },
          "metadata": {
            "tags": [],
            "needs_background": "light"
          }
        }
      ]
    },
    {
      "cell_type": "code",
      "metadata": {
        "id": "1zUSCUw1SaMN"
      },
      "source": [
        ""
      ],
      "execution_count": null,
      "outputs": []
    }
  ]
}