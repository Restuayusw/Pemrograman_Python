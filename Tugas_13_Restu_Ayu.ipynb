{
  "nbformat": 4,
  "nbformat_minor": 0,
  "metadata": {
    "colab": {
      "name": "Tugas 13_Restu Ayu.ipynb",
      "provenance": [],
      "authorship_tag": "ABX9TyM5Sz4o74YJqCawW8Y5/x+b",
      "include_colab_link": true
    },
    "kernelspec": {
      "name": "python3",
      "display_name": "Python 3"
    }
  },
  "cells": [
    {
      "cell_type": "markdown",
      "metadata": {
        "id": "view-in-github",
        "colab_type": "text"
      },
      "source": [
        "<a href=\"https://colab.research.google.com/github/Restuayusw/Pemrograman_Python/blob/main/Tugas_13_Restu_Ayu.ipynb\" target=\"_parent\"><img src=\"https://colab.research.google.com/assets/colab-badge.svg\" alt=\"Open In Colab\"/></a>"
      ]
    },
    {
      "cell_type": "markdown",
      "metadata": {
        "id": "-RzOi-4rKIFB"
      },
      "source": [
        " **NAMA : RESTU AYU SENTOSANING WAHYU**\r\n",
        " ---\r\n",
        "**NIM : 1101174067**\r\n",
        "---\r\n",
        "**KELAS : TT-43-G10**\r\n",
        "---\r\n",
        "\r\n"
      ]
    },
    {
      "cell_type": "code",
      "metadata": {
        "id": "0sfLlyBNRp1J",
        "colab": {
          "base_uri": "https://localhost:8080/"
        },
        "outputId": "3b0fd972-7195-4d85-ed7a-b275e91f9a62"
      },
      "source": [
        "from google.colab import drive\n",
        "drive.mount('/content/drive')"
      ],
      "execution_count": 43,
      "outputs": [
        {
          "output_type": "stream",
          "text": [
            "Mounted at /content/drive\n"
          ],
          "name": "stdout"
        }
      ]
    },
    {
      "cell_type": "code",
      "metadata": {
        "id": "_a_N7F-JBnG8"
      },
      "source": [
        "import numpy as np\n",
        "import matplotlib.pyplot as plt\n"
      ],
      "execution_count": 44,
      "outputs": []
    },
    {
      "cell_type": "code",
      "metadata": {
        "colab": {
          "base_uri": "https://localhost:8080/"
        },
        "id": "Bt35WWBYHmaF",
        "outputId": "5450760e-fcb2-4649-84a7-c04e2258be25"
      },
      "source": [
        "np.zeros(4)"
      ],
      "execution_count": 45,
      "outputs": [
        {
          "output_type": "execute_result",
          "data": {
            "text/plain": [
              "array([0., 0., 0., 0.])"
            ]
          },
          "metadata": {
            "tags": []
          },
          "execution_count": 45
        }
      ]
    },
    {
      "cell_type": "code",
      "metadata": {
        "colab": {
          "base_uri": "https://localhost:8080/"
        },
        "id": "Ptft1x8jHorC",
        "outputId": "620a5b24-f75e-49c7-80bc-b25a880e9615"
      },
      "source": [
        "np.ones(3)"
      ],
      "execution_count": 46,
      "outputs": [
        {
          "output_type": "execute_result",
          "data": {
            "text/plain": [
              "array([1., 1., 1.])"
            ]
          },
          "metadata": {
            "tags": []
          },
          "execution_count": 46
        }
      ]
    },
    {
      "cell_type": "code",
      "metadata": {
        "colab": {
          "base_uri": "https://localhost:8080/"
        },
        "id": "6rL5qoLsHxmw",
        "outputId": "4368d1cd-2dfc-484d-e5fb-54e6e9ae8946"
      },
      "source": [
        "np.zeros((3,4))"
      ],
      "execution_count": 47,
      "outputs": [
        {
          "output_type": "execute_result",
          "data": {
            "text/plain": [
              "array([[0., 0., 0., 0.],\n",
              "       [0., 0., 0., 0.],\n",
              "       [0., 0., 0., 0.]])"
            ]
          },
          "metadata": {
            "tags": []
          },
          "execution_count": 47
        }
      ]
    },
    {
      "cell_type": "code",
      "metadata": {
        "colab": {
          "base_uri": "https://localhost:8080/"
        },
        "id": "iwOrfsJWH1Kj",
        "outputId": "3c4afb5a-e595-4d9a-d745-a24012722f3b"
      },
      "source": [
        "np.ones((5,2))"
      ],
      "execution_count": 48,
      "outputs": [
        {
          "output_type": "execute_result",
          "data": {
            "text/plain": [
              "array([[1., 1.],\n",
              "       [1., 1.],\n",
              "       [1., 1.],\n",
              "       [1., 1.],\n",
              "       [1., 1.]])"
            ]
          },
          "metadata": {
            "tags": []
          },
          "execution_count": 48
        }
      ]
    },
    {
      "cell_type": "code",
      "metadata": {
        "colab": {
          "base_uri": "https://localhost:8080/"
        },
        "id": "RgoZwFVpH4LJ",
        "outputId": "87f50c58-e725-47de-c508-1b9220e498ba"
      },
      "source": [
        "np.arange(10)"
      ],
      "execution_count": 49,
      "outputs": [
        {
          "output_type": "execute_result",
          "data": {
            "text/plain": [
              "array([0, 1, 2, 3, 4, 5, 6, 7, 8, 9])"
            ]
          },
          "metadata": {
            "tags": []
          },
          "execution_count": 49
        }
      ]
    },
    {
      "cell_type": "code",
      "metadata": {
        "colab": {
          "base_uri": "https://localhost:8080/"
        },
        "id": "LbDM1yUVH7sn",
        "outputId": "4ab949f2-91c9-4bf6-d9b9-b5a8b18c99b7"
      },
      "source": [
        "np.arange(2,10)"
      ],
      "execution_count": 50,
      "outputs": [
        {
          "output_type": "execute_result",
          "data": {
            "text/plain": [
              "array([2, 3, 4, 5, 6, 7, 8, 9])"
            ]
          },
          "metadata": {
            "tags": []
          },
          "execution_count": 50
        }
      ]
    },
    {
      "cell_type": "code",
      "metadata": {
        "colab": {
          "base_uri": "https://localhost:8080/"
        },
        "id": "3pfKhilJH-27",
        "outputId": "b16f70ce-0353-40c7-f282-d8758e23effc"
      },
      "source": [
        "np.arange(3,47,4)"
      ],
      "execution_count": 51,
      "outputs": [
        {
          "output_type": "execute_result",
          "data": {
            "text/plain": [
              "array([ 3,  7, 11, 15, 19, 23, 27, 31, 35, 39, 43])"
            ]
          },
          "metadata": {
            "tags": []
          },
          "execution_count": 51
        }
      ]
    },
    {
      "cell_type": "code",
      "metadata": {
        "colab": {
          "base_uri": "https://localhost:8080/"
        },
        "id": "JCjwHWQKICbo",
        "outputId": "0e91a4f0-f7bb-4d9a-d24b-bad9e74c4258"
      },
      "source": [
        "np.arange(4,5,0.1)"
      ],
      "execution_count": 52,
      "outputs": [
        {
          "output_type": "execute_result",
          "data": {
            "text/plain": [
              "array([4. , 4.1, 4.2, 4.3, 4.4, 4.5, 4.6, 4.7, 4.8, 4.9])"
            ]
          },
          "metadata": {
            "tags": []
          },
          "execution_count": 52
        }
      ]
    },
    {
      "cell_type": "code",
      "metadata": {
        "colab": {
          "base_uri": "https://localhost:8080/"
        },
        "id": "f_iYmJuAIGWA",
        "outputId": "ebc0fe88-1246-40fc-cb95-1207f5958501"
      },
      "source": [
        "np.arange(2,-4,-0.5)"
      ],
      "execution_count": 53,
      "outputs": [
        {
          "output_type": "execute_result",
          "data": {
            "text/plain": [
              "array([ 2. ,  1.5,  1. ,  0.5,  0. , -0.5, -1. , -1.5, -2. , -2.5, -3. ,\n",
              "       -3.5])"
            ]
          },
          "metadata": {
            "tags": []
          },
          "execution_count": 53
        }
      ]
    },
    {
      "cell_type": "code",
      "metadata": {
        "colab": {
          "base_uri": "https://localhost:8080/"
        },
        "id": "nYs05WMnIJui",
        "outputId": "a8c60ed2-b2a9-43b7-e0a1-a080ca0a9775"
      },
      "source": [
        "np.linspace(2,10,4)"
      ],
      "execution_count": 54,
      "outputs": [
        {
          "output_type": "execute_result",
          "data": {
            "text/plain": [
              "array([ 2.        ,  4.66666667,  7.33333333, 10.        ])"
            ]
          },
          "metadata": {
            "tags": []
          },
          "execution_count": 54
        }
      ]
    },
    {
      "cell_type": "code",
      "metadata": {
        "colab": {
          "base_uri": "https://localhost:8080/"
        },
        "id": "JEnrnCy6IM3S",
        "outputId": "e728b056-fc24-4a94-9ebd-dcfaae6e39a6"
      },
      "source": [
        "np.linspace(2,-4,4)"
      ],
      "execution_count": 55,
      "outputs": [
        {
          "output_type": "execute_result",
          "data": {
            "text/plain": [
              "array([ 2.,  0., -2., -4.])"
            ]
          },
          "metadata": {
            "tags": []
          },
          "execution_count": 55
        }
      ]
    },
    {
      "cell_type": "code",
      "metadata": {
        "id": "v9oYS4XzIPoX"
      },
      "source": [
        "e=np.arange(0,20,2)"
      ],
      "execution_count": 56,
      "outputs": []
    },
    {
      "cell_type": "code",
      "metadata": {
        "colab": {
          "base_uri": "https://localhost:8080/"
        },
        "id": "vu9EULcFIUGt",
        "outputId": "8967e4eb-2ab5-4da8-e08b-e32fa315e05f"
      },
      "source": [
        "len(e)"
      ],
      "execution_count": 57,
      "outputs": [
        {
          "output_type": "execute_result",
          "data": {
            "text/plain": [
              "10"
            ]
          },
          "metadata": {
            "tags": []
          },
          "execution_count": 57
        }
      ]
    },
    {
      "cell_type": "code",
      "metadata": {
        "colab": {
          "base_uri": "https://localhost:8080/"
        },
        "id": "8L-_atSaIYUj",
        "outputId": "d852e3be-8ba2-4568-adc0-f5f809c17deb"
      },
      "source": [
        "e.reshape(5,2)"
      ],
      "execution_count": 58,
      "outputs": [
        {
          "output_type": "execute_result",
          "data": {
            "text/plain": [
              "array([[ 0,  2],\n",
              "       [ 4,  6],\n",
              "       [ 8, 10],\n",
              "       [12, 14],\n",
              "       [16, 18]])"
            ]
          },
          "metadata": {
            "tags": []
          },
          "execution_count": 58
        }
      ]
    },
    {
      "cell_type": "code",
      "metadata": {
        "colab": {
          "base_uri": "https://localhost:8080/"
        },
        "id": "pNCPrwkCIa3G",
        "outputId": "5a435213-a583-4bee-e059-033b5a2623f5"
      },
      "source": [
        "e.reshape(2,5)"
      ],
      "execution_count": 59,
      "outputs": [
        {
          "output_type": "execute_result",
          "data": {
            "text/plain": [
              "array([[ 0,  2,  4,  6,  8],\n",
              "       [10, 12, 14, 16, 18]])"
            ]
          },
          "metadata": {
            "tags": []
          },
          "execution_count": 59
        }
      ]
    },
    {
      "cell_type": "code",
      "metadata": {
        "colab": {
          "base_uri": "https://localhost:8080/"
        },
        "id": "jdktxxp_IebZ",
        "outputId": "7117b5b9-6d29-49ad-91de-9833e4287645"
      },
      "source": [
        "print(e)"
      ],
      "execution_count": 60,
      "outputs": [
        {
          "output_type": "stream",
          "text": [
            "[ 0  2  4  6  8 10 12 14 16 18]\n"
          ],
          "name": "stdout"
        }
      ]
    },
    {
      "cell_type": "code",
      "metadata": {
        "id": "p_u9qwSyIg_o"
      },
      "source": [
        "f=e.reshape(2,5)"
      ],
      "execution_count": 61,
      "outputs": []
    },
    {
      "cell_type": "code",
      "metadata": {
        "colab": {
          "base_uri": "https://localhost:8080/"
        },
        "id": "bYbbB9cuJEoJ",
        "outputId": "6b606470-e67d-46be-cf2d-1ae68a0fb3f0"
      },
      "source": [
        "print(f)"
      ],
      "execution_count": 62,
      "outputs": [
        {
          "output_type": "stream",
          "text": [
            "[[ 0  2  4  6  8]\n",
            " [10 12 14 16 18]]\n"
          ],
          "name": "stdout"
        }
      ]
    },
    {
      "cell_type": "code",
      "metadata": {
        "colab": {
          "base_uri": "https://localhost:8080/"
        },
        "id": "GRlsiP8wJI0p",
        "outputId": "b0388854-19d1-44d8-d3f0-64172c6f3610"
      },
      "source": [
        "np.random.random((3,4))"
      ],
      "execution_count": 63,
      "outputs": [
        {
          "output_type": "execute_result",
          "data": {
            "text/plain": [
              "array([[0.92140965, 0.80170772, 0.49608054, 0.35392423],\n",
              "       [0.91510997, 0.65762889, 0.75417208, 0.67164357],\n",
              "       [0.37888517, 0.45117138, 0.3179078 , 0.01463468]])"
            ]
          },
          "metadata": {
            "tags": []
          },
          "execution_count": 63
        }
      ]
    },
    {
      "cell_type": "code",
      "metadata": {
        "colab": {
          "base_uri": "https://localhost:8080/"
        },
        "id": "1nDd_ZT8JLsz",
        "outputId": "ea727a7e-aae8-4393-f744-8e8107652beb"
      },
      "source": [
        "np.random.randint(1,20,10)"
      ],
      "execution_count": 64,
      "outputs": [
        {
          "output_type": "execute_result",
          "data": {
            "text/plain": [
              "array([ 6, 17,  7, 18, 18,  5,  4, 12,  9, 10])"
            ]
          },
          "metadata": {
            "tags": []
          },
          "execution_count": 64
        }
      ]
    },
    {
      "cell_type": "code",
      "metadata": {
        "colab": {
          "base_uri": "https://localhost:8080/"
        },
        "id": "fk7QgETcJNZn",
        "outputId": "bb3248f1-7a86-4d59-c5cc-4c3753b20111"
      },
      "source": [
        "np.random.randn(3)"
      ],
      "execution_count": 65,
      "outputs": [
        {
          "output_type": "execute_result",
          "data": {
            "text/plain": [
              "array([ 1.03182607, -0.2556036 ,  0.5088528 ])"
            ]
          },
          "metadata": {
            "tags": []
          },
          "execution_count": 65
        }
      ]
    },
    {
      "cell_type": "markdown",
      "metadata": {
        "id": "-NSP6pFsPOeY"
      },
      "source": [
        "Gambar Kurva"
      ]
    },
    {
      "cell_type": "code",
      "metadata": {
        "id": "u4jPVkCjJQJX"
      },
      "source": [
        "x=np.linspace(1,20,10)\r\n",
        "y=x**2\r\n",
        "y2=x**3"
      ],
      "execution_count": 66,
      "outputs": []
    },
    {
      "cell_type": "code",
      "metadata": {
        "colab": {
          "base_uri": "https://localhost:8080/"
        },
        "id": "ULiGgl7hJUMp",
        "outputId": "4ad2493e-8e90-4c6c-b2fc-fc7381f80326"
      },
      "source": [
        "print(x)"
      ],
      "execution_count": 67,
      "outputs": [
        {
          "output_type": "stream",
          "text": [
            "[ 1.          3.11111111  5.22222222  7.33333333  9.44444444 11.55555556\n",
            " 13.66666667 15.77777778 17.88888889 20.        ]\n"
          ],
          "name": "stdout"
        }
      ]
    },
    {
      "cell_type": "code",
      "metadata": {
        "colab": {
          "base_uri": "https://localhost:8080/",
          "height": 295
        },
        "id": "SkeHqOMXNxAv",
        "outputId": "d621194b-fd1c-4d83-f70d-0ce6373759f6"
      },
      "source": [
        "plt.figure()\n",
        "plt.plot(x,y, label='Y1')\n",
        "plt.plot(x,y2, label='Y2')\n",
        "plt.legend()\n",
        "plt.title('Contoh kurva Python')\n",
        "plt.xlabel('X')\n",
        "plt.ylabel('Y')\n",
        "plt.show()"
      ],
      "execution_count": 68,
      "outputs": [
        {
          "output_type": "display_data",
          "data": {
            "image/png": "[encoded data removed]",
            "text/plain": [
              "<Figure size 432x288 with 1 Axes>"
            ]
          },
          "metadata": {
            "tags": [],
            "needs_background": "light"
          }
        }
      ]
    },
    {
      "cell_type": "markdown",
      "metadata": {
        "id": "T0Ns35LdR1X-"
      },
      "source": [
        " **TUGAS PYTHON 13**"
      ]
    },
    {
      "cell_type": "code",
      "metadata": {
        "id": "rJElyaZ8ssAs"
      },
      "source": [
        "import numpy as np\r\n",
        "import matplotlib.pyplot as plt"
      ],
      "execution_count": 89,
      "outputs": []
    },
    {
      "cell_type": "code",
      "metadata": {
        "id": "hcsG4CR4RqHL"
      },
      "source": [
        "def cos(fk,tipe,ht,hr,d):\r\n",
        "   \r\n",
        "    if fk in range(150,1501):\r\n",
        "        Ca=69.55\r\n",
        "        Cb=26.16\r\n",
        "    elif fk in range(1501,2001):\r\n",
        "        Ca=46.3\r\n",
        "        Cb=33.9\r\n",
        "    \r\n",
        "    if tipe=='urban' :\r\n",
        "        Cm=0\r\n",
        "    elif tipe=='suburban' :\r\n",
        "        Cm= -2*((np.log10((fk/28)**2))-5.4)\r\n",
        "    elif tipe=='open' :\r\n",
        "        Cm= -4.78*(np.log10(fk))+18.33*(np.log10(fk))-40.94\r\n",
        "    else :\r\n",
        "        Cm='tipe salah'\r\n",
        "    \r\n",
        "    ahr = (1.1*np.log10(fk)-0.7)*hr-(1.56*np.log10(fk)-1.8)\r\n",
        "    Lp = Ca+(Cb*np.log10(fk))-(13.83*np.log(ht))-ahr+((44.9-6.55*np.log10(ht))*np.log10(d))-Cm\r\n",
        "    \r\n",
        "    return Lp"
      ],
      "execution_count": 90,
      "outputs": []
    },
    {
      "cell_type": "code",
      "metadata": {
        "id": "Hd-UCRq6R9R2"
      },
      "source": [
        "tower=80  \r\n",
        "user=1.5 \r\n",
        "dmin=200 \r\n",
        "dmax=700 \r\n",
        "N=200 \r\n",
        "d=np.random.randint(dmin,dmax,N)"
      ],
      "execution_count": 91,
      "outputs": []
    },
    {
      "cell_type": "code",
      "metadata": {
        "id": "xAGF_DCwtHnP"
      },
      "source": [
        "def Ruangx():\r\n",
        "  f=1800 \r\n",
        "  loc='urban'\r\n",
        "  LpUrban=cos(f,loc,tower,user,d)\r\n",
        "  d_sort=d[np.argsort(d)]\r\n",
        "  Urban_sort=LpUrban[np.argsort(d)]\r\n",
        "  return d_sort,Urban_sort"
      ],
      "execution_count": 92,
      "outputs": []
    },
    {
      "cell_type": "code",
      "metadata": {
        "id": "XReP5HqytN4n"
      },
      "source": [
        "def Ruangy():\r\n",
        "  f=1800 \r\n",
        "  loc='open'\r\n",
        "  LpUrban=cos(f,loc,tower,user,d)\r\n",
        "  d_sort=d[np.argsort(d)]\r\n",
        "  Urban_sort=LpUrban[np.argsort(d)]\r\n",
        "  return d_sort,Urban_sort"
      ],
      "execution_count": 93,
      "outputs": []
    },
    {
      "cell_type": "code",
      "metadata": {
        "id": "0rLjA-hxtZwV"
      },
      "source": [
        "def Ruangz():\r\n",
        "  f=1800 \r\n",
        "  loc='suburban'\r\n",
        "  LpUrban=cos(f,loc,tower,user,d)\r\n",
        "  d_sort=d[np.argsort(d)]\r\n",
        "  Urban_sort=LpUrban[np.argsort(d)]\r\n",
        "  return d_sort,Urban_sort"
      ],
      "execution_count": 94,
      "outputs": []
    },
    {
      "cell_type": "code",
      "metadata": {
        "id": "62TRvITWtbss"
      },
      "source": [
        "def frekuensix():\r\n",
        "  f=700 \r\n",
        "  loc='urban'\r\n",
        "  LpUrban=cos(f,loc,tower,user,d)\r\n",
        "  d_sort=d[np.argsort(d)]\r\n",
        "  Urban_sort=LpUrban[np.argsort(d)]\r\n",
        "  return d_sort,Urban_sort"
      ],
      "execution_count": 95,
      "outputs": []
    },
    {
      "cell_type": "code",
      "metadata": {
        "id": "U2wZOIFEtfF1"
      },
      "source": [
        "def frekuensiy():\r\n",
        "  f=900 \r\n",
        "  loc='urban'\r\n",
        "  LpUrban=cos(f,loc,tower,user,d)\r\n",
        "  d_sort=d[np.argsort(d)]\r\n",
        "  Urban_sort=LpUrban[np.argsort(d)]\r\n",
        "  return d_sort,Urban_sort"
      ],
      "execution_count": 96,
      "outputs": []
    },
    {
      "cell_type": "code",
      "metadata": {
        "id": "WBT01Vc1tiZS"
      },
      "source": [
        "def frekuensiz():\r\n",
        "  f=1800 \r\n",
        "  loc='urban'\r\n",
        "  LpUrban=cos(f,loc,tower,user,d)\r\n",
        "  d_sort=d[np.argsort(d)]\r\n",
        "  Urban_sort=LpUrban[np.argsort(d)]\r\n",
        "  return d_sort,Urban_sort"
      ],
      "execution_count": 97,
      "outputs": []
    },
    {
      "cell_type": "code",
      "metadata": {
        "id": "s_k6i85mtl-Y"
      },
      "source": [
        "x1,y1 = Ruangx()\r\n",
        "x2,y2 = Ruangy()\r\n",
        "x3,y3 = Ruangz()\r\n",
        "\r\n",
        "a1,b1 = frekuensix()\r\n",
        "a2,b2 = frekuensiy()\r\n",
        "a3,b3 = frekuensiz()"
      ],
      "execution_count": 98,
      "outputs": []
    },
    {
      "cell_type": "code",
      "metadata": {
        "colab": {
          "base_uri": "https://localhost:8080/",
          "height": 541
        },
        "id": "mmAJboRptpIt",
        "outputId": "1ca3644e-91b3-419e-8828-0d2a7695f89a"
      },
      "source": [
        "plt.figure()\r\n",
        "plt.plot(x1,y1 , label='urban')\r\n",
        "plt.plot(x2,y2 , label='open')\r\n",
        "plt.plot(x3,y3 , label='suburban')\r\n",
        "plt.legend()\r\n",
        "plt.xlabel('Jarak (m)')\r\n",
        "plt.ylabel('Path Loss (dB)')\r\n",
        "plt.show()\r\n",
        "\r\n",
        "plt.figure()\r\n",
        "plt.plot(a1,b1,'g', label='700 Mhz')\r\n",
        "plt.plot(a2,b2,'r', label='900 Mhz')\r\n",
        "plt.plot(a3,b3,'y', label='1800 Mhz')\r\n",
        "plt.legend()\r\n",
        "plt.xlabel('Jarak (m)')\r\n",
        "plt.ylabel('Path Loss (dB)')\r\n",
        "plt.show()"
      ],
      "execution_count": 104,
      "outputs": [
        {
          "output_type": "display_data",
          "data": {
            "image/png": "[encoded data removed]",
            "text/plain": [
              "<Figure size 432x288 with 1 Axes>"
            ]
          },
          "metadata": {
            "tags": [],
            "needs_background": "light"
          }
        },
        {
          "output_type": "display_data",
          "data": {
            "image/png": "[encoded data removed]",
            "text/plain": [
              "<Figure size 432x288 with 1 Axes>"
            ]
          },
          "metadata": {
            "tags": [],
            "needs_background": "light"
          }
        }
      ]
    },
    {
      "cell_type": "code",
      "metadata": {
        "id": "AhFfmN23tw50"
      },
      "source": [
        ""
      ],
      "execution_count": null,
      "outputs": []
    }
  ]
}