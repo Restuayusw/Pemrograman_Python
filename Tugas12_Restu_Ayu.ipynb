{
  "nbformat": 4,
  "nbformat_minor": 0,
  "metadata": {
    "colab": {
      "name": "Tugas12_Restu Ayu.ipynb",
      "provenance": [],
      "include_colab_link": true
    },
    "kernelspec": {
      "name": "python3",
      "display_name": "Python 3"
    }
  },
  "cells": [
    {
      "cell_type": "markdown",
      "metadata": {
        "id": "view-in-github",
        "colab_type": "text"
      },
      "source": [
        "<a href=\"https://colab.research.google.com/github/Restuayusw/Pemrograman_Python/blob/main/Tugas12_Restu_Ayu.ipynb\" target=\"_parent\"><img src=\"https://colab.research.google.com/assets/colab-badge.svg\" alt=\"Open In Colab\"/></a>"
      ]
    },
    {
      "cell_type": "markdown",
      "metadata": {
        "id": "Ts6oDeFbtE6R"
      },
      "source": [
        "Nama  : Restu Ayu Sentosaning Wahyu\r\n",
        "\r\n",
        "---\r\n",
        "\r\n",
        "\r\n",
        "NIM   : 1101180197\r\n",
        "\r\n",
        "---\r\n",
        "\r\n",
        "\r\n",
        "Kelas : TT-43-G10"
      ]
    },
    {
      "cell_type": "code",
      "metadata": {
        "id": "cmN1vxpkp0-h"
      },
      "source": [
        "import numpy as np"
      ],
      "execution_count": null,
      "outputs": []
    },
    {
      "cell_type": "code",
      "metadata": {
        "colab": {
          "base_uri": "https://localhost:8080/"
        },
        "id": "0wWEIzf2p_oY",
        "outputId": "1a7afae2-2a2a-4fff-99f3-05566d63a2b7"
      },
      "source": [
        "fc=int(input(\"Masukan Nilai fc (400000000 s/d 2000000000) = \"))\r\n",
        "hT=int(input(\"Masukan Nilai hT (30 s/d 200 meter) = \"))\r\n",
        "hR=int(input(\"Masukan Nilai hR (1 s/d 30 meter) = \"))\r\n",
        "d=int(input(\"Masukan Nilai jarak pengirim dan penerima dalam (km) = \"))\r\n",
        "area=input(\"Pilih tipe area (Urban, Suburban, Open) = \")"
      ],
      "execution_count": null,
      "outputs": [
        {
          "output_type": "stream",
          "text": [
            "Masukan Nilai fc (400000000 s/d 2000000000) = 600000000\n",
            "Masukan Nilai hT (30 s/d 200 meter) = 35\n",
            "Masukan Nilai hR (1 s/d 30 meter) = 20\n",
            "Masukan Nilai jarak pengirim dan penerima dalam (km) = 2\n",
            "Pilih tipe area (Urban, Suburban, Open) = Urban\n"
          ],
          "name": "stdout"
        }
      ]
    },
    {
      "cell_type": "code",
      "metadata": {
        "id": "TxFw0iSsqGaM"
      },
      "source": [
        "#fc=600000000\r\n",
        "#hT=40\r\n",
        "#hR=20\r\n",
        "#d=20\r\n",
        "#area='Suburban'"
      ],
      "execution_count": null,
      "outputs": []
    },
    {
      "cell_type": "code",
      "metadata": {
        "id": "71Ip4DE6qJxR"
      },
      "source": [
        "NtL = lambda x: 10*np.log10(x)"
      ],
      "execution_count": null,
      "outputs": []
    },
    {
      "cell_type": "code",
      "metadata": {
        "colab": {
          "base_uri": "https://localhost:8080/"
        },
        "id": "IQlhDe1XqMGW",
        "outputId": "1eeb0061-3e29-4b4a-881e-cca96d57010a"
      },
      "source": [
        "def nilaiFC(fc):\r\n",
        "  if fc<1500000000 and fc>=400000000:\r\n",
        "    C1,C2 = 69.55, 26.16\r\n",
        "  if fc<=2000000000 and fc>= 1500000000:\r\n",
        "    C1,C2 = 46.3, 33.9\r\n",
        "  return C1,C2\r\n",
        "nilaiFC(fc)"
      ],
      "execution_count": null,
      "outputs": [
        {
          "output_type": "execute_result",
          "data": {
            "text/plain": [
              "(69.55, 26.16)"
            ]
          },
          "metadata": {
            "tags": []
          },
          "execution_count": 28
        }
      ]
    },
    {
      "cell_type": "code",
      "metadata": {
        "colab": {
          "base_uri": "https://localhost:8080/"
        },
        "id": "uWjxbbE0qOXD",
        "outputId": "0f8a9920-d6fc-4e1f-b655-8314f1b60d40"
      },
      "source": [
        "def ahR(fc,hR):\r\n",
        "  a_hR=(1.1*np.log10(fc)-0.7)*hR-(1.56*np.log10(fc)-0.8)\r\n",
        "  return a_hR\r\n",
        "ahR(fc,hR)"
      ],
      "execution_count": null,
      "outputs": [
        {
          "output_type": "execute_result",
          "data": {
            "text/plain": [
              "166.2254115578417"
            ]
          },
          "metadata": {
            "tags": []
          },
          "execution_count": 29
        }
      ]
    },
    {
      "cell_type": "code",
      "metadata": {
        "colab": {
          "base_uri": "https://localhost:8080/"
        },
        "id": "2WyyaghhqQYH",
        "outputId": "f8eb90e3-0ec2-4b31-9f6a-f42c59cc7cd1"
      },
      "source": [
        "def CM(fc,area):\r\n",
        "  if area=='Urban':\r\n",
        "    Cm = 0\r\n",
        "  if area=='Suburban':\r\n",
        "    Cm = -2*((np.log10(fc/28))**2) - 5.4\r\n",
        "  if area=='Open':\r\n",
        "    Cm = -4.78*((np.log10(fc))**2) + 18.33*np.log10(fc) - 40.94\r\n",
        "  return Cm\r\n",
        "CM(fc,area)"
      ],
      "execution_count": null,
      "outputs": [
        {
          "output_type": "execute_result",
          "data": {
            "text/plain": [
              "0"
            ]
          },
          "metadata": {
            "tags": []
          },
          "execution_count": 30
        }
      ]
    },
    {
      "cell_type": "code",
      "metadata": {
        "colab": {
          "base_uri": "https://localhost:8080/"
        },
        "id": "sFrukEtDqSsB",
        "outputId": "adb6dffa-2591-4308-bfed-4dfac9c7f2f1"
      },
      "source": [
        "def pathloss(fc,hT,d):\r\n",
        "  C1,C2 = nilaiFC(fc)\r\n",
        "  a_hR = ahR(fc,hR)\r\n",
        "  Cm = CM(fc,area)\r\n",
        "  Lp = C1+C2*(np.log10(fc)) - 13.83*(np.log10(hT)) - a_hR + (44.9-6.55*(np.log10(hT)))*(np.log10(d)) + Cm\r\n",
        "  return Lp\r\n",
        "pathloss(fc,hT,d)"
      ],
      "execution_count": null,
      "outputs": [
        {
          "output_type": "execute_result",
          "data": {
            "text/plain": [
              "122.07830018578628"
            ]
          },
          "metadata": {
            "tags": []
          },
          "execution_count": 31
        }
      ]
    },
    {
      "cell_type": "code",
      "metadata": {
        "id": "WL2DVFZUqUyJ"
      },
      "source": [
        "#Lp = pathloss(fc,hT,d)\r\n",
        "#print(\"Pathloss = \",Lp,\"dB\")"
      ],
      "execution_count": null,
      "outputs": []
    },
    {
      "cell_type": "code",
      "metadata": {
        "colab": {
          "base_uri": "https://localhost:8080/"
        },
        "id": "9BBHCxgIqXVD",
        "outputId": "0e8f5e0f-005d-45ee-b218-7b02778255c1"
      },
      "source": [
        "#Ketika Path Loss di soal ternyata belum dalam dB\r\n",
        "Lp = pathloss(fc,hT,d)\r\n",
        "LpdB = NtL(Lp)\r\n",
        "print (\"Path Loss dalam dB = \", LpdB, \"dB\")\r\n",
        "print (\"Path Loss dalam Numerik = \", Lp)\r\n",
        "\r\n",
        "\r\n",
        "#Ketika Path Loss di soal ternyata sudah dalam dB\r\n",
        "Lp = pathloss(fc,hT,d)\r\n",
        "print(\"\\nPath Loss dalam dB = \", Lp, \"dB\")"
      ],
      "execution_count": null,
      "outputs": [
        {
          "output_type": "stream",
          "text": [
            "Path Loss dalam dB =  20.86638473550904 dB\n",
            "Path Loss dalam Numerik =  122.07830018578628\n",
            "\n",
            "Path Loss dalam dB =  122.07830018578628 dB\n"
          ],
          "name": "stdout"
        }
      ]
    },
    {
      "cell_type": "code",
      "metadata": {
        "id": "kNV1eO8YqZ_F"
      },
      "source": [
        ""
      ],
      "execution_count": null,
      "outputs": []
    }
  ]
}